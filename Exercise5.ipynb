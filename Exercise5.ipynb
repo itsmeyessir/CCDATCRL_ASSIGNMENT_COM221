{
  "cells": [
    {
      "cell_type": "markdown",
      "metadata": {
        "id": "EbVHkgJWDWkH"
      },
      "source": [
        "# Exercise 5"
      ]
    },
    {
      "cell_type": "markdown",
      "metadata": {
        "id": "NvIIZNG8DWkZ"
      },
      "source": [
        "#### 1. Create a dictionary of your 10 favorite songs."
      ]
    },
    {
      "cell_type": "markdown",
      "metadata": {
        "id": "QZ3L6eVqDWkc"
      },
      "source": [
        "Example:\n",
        "\n",
        "|KEY|VALUE|\n",
        "|---|---|\n",
        "|001|My Love|\n",
        "|002|Like a rose|"
      ]
    },
    {
      "cell_type": "code",
      "execution_count": null,
      "metadata": {
        "id": "dXbX6LR2DWki",
        "outputId": "bf8eccde-9c39-4fa3-ca14-0f383ed888c8",
        "colab": {
          "base_uri": "https://localhost:8080/"
        }
      },
      "outputs": [
        {
          "output_type": "stream",
          "name": "stdout",
          "text": [
            "{'001': 'Janice', '002': 'Harana sa Sarili', '003': 'What is Love?', '004': 'A Certain Romance', '005': 'Sprinter', '006': 'Understand', '007': 'Purple Hearts', '008': 'Fried Noodles', '009': 'Upgrade', '010': 'Pink Matter'}\n"
          ]
        }
      ],
      "source": [
        "# put your answer here\n",
        "mydictionary = {\n",
        "  \"001\": \"Janice\",\n",
        "  \"002\": \"Harana sa Sarili\",\n",
        "  \"003\": \"What is Love?\",\n",
        "  \"004\": \"A Certain Romance\",\n",
        "  \"005\": \"Sprinter\",\n",
        "  \"006\": \"Understand\",\n",
        "  \"007\": \"Purple Hearts\",\n",
        "  \"008\": \"Fried Noodles\",\n",
        "  \"009\": \"Upgrade\",\n",
        "  \"010\": \"Pink Matter\"\n",
        "}\n",
        "print(mydictionary)"
      ]
    },
    {
      "cell_type": "markdown",
      "metadata": {
        "id": "eNCxgRsmDWlg"
      },
      "source": [
        "#### 2. Loop through the dictionary by its **key** and **value**"
      ]
    },
    {
      "cell_type": "code",
      "execution_count": null,
      "metadata": {
        "id": "2xmNsXPwDWll",
        "outputId": "a338b7aa-53ce-46bb-b7f7-21d3056e4c48",
        "colab": {
          "base_uri": "https://localhost:8080/"
        }
      },
      "outputs": [
        {
          "output_type": "stream",
          "name": "stdout",
          "text": [
            "ID 001\n",
            "ID 002\n",
            "ID 003\n",
            "ID 004\n",
            "ID 005\n",
            "ID 006\n",
            "ID 007\n",
            "ID 008\n",
            "ID 009\n",
            "ID 010\n"
          ]
        }
      ],
      "source": [
        "# put your answer here\n",
        "for i in mydictionary:\n",
        "  print(\"ID\",i)"
      ]
    },
    {
      "cell_type": "markdown",
      "metadata": {
        "id": "gZ7KuA-vDWlt"
      },
      "source": [
        "#### 3. Add one additional song"
      ]
    },
    {
      "cell_type": "code",
      "execution_count": null,
      "metadata": {
        "id": "7I7ILoVtDWl3",
        "outputId": "954aeae9-d8d2-4e86-8c9b-d084f952970e",
        "colab": {
          "base_uri": "https://localhost:8080/"
        }
      },
      "outputs": [
        {
          "output_type": "execute_result",
          "data": {
            "text/plain": [
              "{'001': 'Janice',\n",
              " '002': 'Harana sa Sarili',\n",
              " '003': 'What is Love?',\n",
              " '004': 'A Certain Romance',\n",
              " '005': 'Sprinter',\n",
              " '006': 'Understand',\n",
              " '007': 'Purple Hearts',\n",
              " '008': 'Fried Noodles',\n",
              " '009': 'Upgrade',\n",
              " '010': 'Pink Matter',\n",
              " '011': 'Slow Dancing in a Burning Room'}"
            ]
          },
          "metadata": {},
          "execution_count": 6
        }
      ],
      "source": [
        "# put your answer here\n",
        "mydictionary[\"011\"] = \"Slow Dancing in a Burning Room\"\n",
        "mydictionary"
      ]
    },
    {
      "cell_type": "markdown",
      "metadata": {
        "id": "Dgkzg1SODWl7"
      },
      "source": [
        "#### 4. Remove one song"
      ]
    },
    {
      "cell_type": "code",
      "execution_count": null,
      "metadata": {
        "id": "dmaFNPZ7DWmH",
        "outputId": "a10e7e4d-945f-4adf-c703-e8f9125f533d",
        "colab": {
          "base_uri": "https://localhost:8080/"
        }
      },
      "outputs": [
        {
          "output_type": "execute_result",
          "data": {
            "text/plain": [
              "{'001': 'Janice',\n",
              " '002': 'Harana sa Sarili',\n",
              " '003': 'What is Love?',\n",
              " '004': 'A Certain Romance',\n",
              " '005': 'Sprinter',\n",
              " '006': 'Understand',\n",
              " '007': 'Purple Hearts',\n",
              " '008': 'Fried Noodles',\n",
              " '010': 'Pink Matter',\n",
              " '011': 'Slow Dancing in a Burning Room'}"
            ]
          },
          "metadata": {},
          "execution_count": 7
        }
      ],
      "source": [
        "# put your answer here\n",
        "mydictionary.pop(\"009\")\n",
        "mydictionary"
      ]
    },
    {
      "cell_type": "markdown",
      "metadata": {
        "id": "-YTu2jYpDWma"
      },
      "source": [
        "#### 5. Create a nested dictionary of your 10 favorite songs with 5 genres. Display all of the items of the nested dictionary\n",
        "\n",
        "- Each nested dictionary's key should be the genre of the song\n",
        "- Put each song in their respective genre"
      ]
    },
    {
      "cell_type": "markdown",
      "metadata": {
        "id": "B1iC7llQDWmb"
      },
      "source": [
        "Example:\n",
        "\n",
        "\n",
        "|KEY|VALUE|\n",
        "|---|---|\n",
        "|Pop|{001, Baby}|\n",
        "|Rock|{001, Enter Sandman}|"
      ]
    },
    {
      "cell_type": "code",
      "execution_count": 1,
      "metadata": {
        "id": "1sEsq9wHDWmb",
        "colab": {
          "base_uri": "https://localhost:8080/"
        },
        "outputId": "75b0fd7c-a194-42a1-8371-e20e22cfb12d"
      },
      "outputs": [
        {
          "output_type": "execute_result",
          "data": {
            "text/plain": [
              "{'OPM': {'001': 'Janice', '002': 'Harana sa Sarili'},\n",
              " 'K-Pop': {'001': 'What is Love?'},\n",
              " 'Rap': {'001': 'Sprinter', '002': 'Purple Hearts', '003': 'Fried Noodles'},\n",
              " 'RnB': {'001': 'Pink Matter'},\n",
              " 'Indie': {'001': 'A Certain Romance'},\n",
              " 'Pop': {'001': 'A Certain Romance', '002': 'Slow Dancing in a Burning Room'}}"
            ]
          },
          "metadata": {},
          "execution_count": 1
        }
      ],
      "source": [
        "# put your answer here\n",
        "mydictionary = {\n",
        "  \"OPM\" : {\n",
        "    \"001\" : \"Janice\",\n",
        "    \"002\" : \"Harana sa Sarili\"\n",
        "  },\n",
        "  \"K-Pop\" : {\n",
        "    \"001\" : \"What is Love?\"\n",
        "  },\n",
        "  \"Rap\" : {\n",
        "    \"001\" : 'Sprinter',\n",
        "    \"002\" : 'Purple Hearts',\n",
        "    \"003\" : 'Fried Noodles'\n",
        "  },\n",
        "  \"RnB\" : {\n",
        "    \"001\" : 'Pink Matter'\n",
        "  },\n",
        "  \"Indie\" : {\n",
        "    \"001\" : 'A Certain Romance'\n",
        "  },\n",
        "  \"Pop\" : {\n",
        "    \"001\" : 'A Certain Romance',\n",
        "    \"002\" : 'Slow Dancing in a Burning Room'\n",
        "  }\n",
        "}\n",
        "mydictionary"
      ]
    },
    {
      "cell_type": "markdown",
      "metadata": {
        "id": "NB3-Ine2DWmc"
      },
      "source": [
        "#### 6. Print the first song of the first genre"
      ]
    },
    {
      "cell_type": "code",
      "execution_count": null,
      "metadata": {
        "id": "LuFPKOTsDWmd",
        "outputId": "3ffb842b-f8cd-4446-d87b-f359aa0b7f65",
        "colab": {
          "base_uri": "https://localhost:8080/"
        }
      },
      "outputs": [
        {
          "output_type": "stream",
          "name": "stdout",
          "text": [
            "Janice\n"
          ]
        }
      ],
      "source": [
        "# put your answer here\n",
        "print(mydictionary[\"OPM\"][\"001\"])"
      ]
    },
    {
      "cell_type": "markdown",
      "metadata": {
        "id": "CRd8MHOqDWme"
      },
      "source": [
        "#### 7. Print the first song of the last genre"
      ]
    },
    {
      "cell_type": "code",
      "execution_count": null,
      "metadata": {
        "id": "dp9CziWnDWme",
        "outputId": "8cc97d61-5a37-4b0b-a94d-6c97857cb0e1",
        "colab": {
          "base_uri": "https://localhost:8080/"
        }
      },
      "outputs": [
        {
          "output_type": "stream",
          "name": "stdout",
          "text": [
            "A Certain Romance\n"
          ]
        }
      ],
      "source": [
        "# put your answer here\n",
        "print(mydictionary[\"Pop\"][\"001\"])"
      ]
    }
  ],
  "metadata": {
    "kernelspec": {
      "display_name": "Python 3",
      "language": "python",
      "name": "python3"
    },
    "language_info": {
      "codemirror_mode": {
        "name": "ipython",
        "version": 3
      },
      "file_extension": ".py",
      "mimetype": "text/x-python",
      "name": "python",
      "nbconvert_exporter": "python",
      "pygments_lexer": "ipython3",
      "version": "3.11.4"
    },
    "orig_nbformat": 4,
    "colab": {
      "provenance": []
    }
  },
  "nbformat": 4,
  "nbformat_minor": 0
}